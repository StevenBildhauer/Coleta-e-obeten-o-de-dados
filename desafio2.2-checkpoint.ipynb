{
 "cells": [
  {
   "cell_type": "code",
   "execution_count": 2,
   "id": "7206eb21",
   "metadata": {
    "collapsed": true
   },
   "outputs": [
    {
     "name": "stdout",
     "output_type": "stream",
     "text": [
      "Collecting pymongo\n",
      "  Downloading pymongo-4.1.1-cp39-cp39-win_amd64.whl (365 kB)\n",
      "Installing collected packages: pymongo\n",
      "Successfully installed pymongo-4.1.1\n"
     ]
    }
   ],
   "source": [
    "!pip install pymongo"
   ]
  },
  {
   "cell_type": "code",
   "execution_count": 11,
   "id": "8a42378d",
   "metadata": {},
   "outputs": [],
   "source": [
    "import pandas as pd\n",
    "from pymongo import MongoClient "
   ]
  },
  {
   "cell_type": "code",
   "execution_count": 12,
   "id": "7c18cd82",
   "metadata": {},
   "outputs": [],
   "source": [
    "lista_jogadores = pd.read_json(\"lista_jogadores_chess.json\")"
   ]
  },
  {
   "cell_type": "code",
   "execution_count": 13,
   "id": "eddf141a",
   "metadata": {},
   "outputs": [
    {
     "data": {
      "text/html": [
       "<div>\n",
       "<style scoped>\n",
       "    .dataframe tbody tr th:only-of-type {\n",
       "        vertical-align: middle;\n",
       "    }\n",
       "\n",
       "    .dataframe tbody tr th {\n",
       "        vertical-align: top;\n",
       "    }\n",
       "\n",
       "    .dataframe thead th {\n",
       "        text-align: right;\n",
       "    }\n",
       "</style>\n",
       "<table border=\"1\" class=\"dataframe\">\n",
       "  <thead>\n",
       "    <tr style=\"text-align: right;\">\n",
       "      <th></th>\n",
       "      <th>user</th>\n",
       "    </tr>\n",
       "  </thead>\n",
       "  <tbody>\n",
       "    <tr>\n",
       "      <th>0</th>\n",
       "      <td>{'avatar': 'https://images.chesscomfiles.com/u...</td>\n",
       "    </tr>\n",
       "    <tr>\n",
       "      <th>1</th>\n",
       "      <td>{'avatar': 'https://images.chesscomfiles.com/u...</td>\n",
       "    </tr>\n",
       "    <tr>\n",
       "      <th>2</th>\n",
       "      <td>{'avatar': 'https://images.chesscomfiles.com/u...</td>\n",
       "    </tr>\n",
       "    <tr>\n",
       "      <th>3</th>\n",
       "      <td>{'avatar': 'https://images.chesscomfiles.com/u...</td>\n",
       "    </tr>\n",
       "    <tr>\n",
       "      <th>4</th>\n",
       "      <td>{'avatar': 'https://images.chesscomfiles.com/u...</td>\n",
       "    </tr>\n",
       "    <tr>\n",
       "      <th>...</th>\n",
       "      <td>...</td>\n",
       "    </tr>\n",
       "    <tr>\n",
       "      <th>1327</th>\n",
       "      <td>{'avatar': 'https://images.chesscomfiles.com/u...</td>\n",
       "    </tr>\n",
       "    <tr>\n",
       "      <th>1328</th>\n",
       "      <td>{'avatar': 'https://images.chesscomfiles.com/u...</td>\n",
       "    </tr>\n",
       "    <tr>\n",
       "      <th>1329</th>\n",
       "      <td>{'avatar': 'https://images.chesscomfiles.com/u...</td>\n",
       "    </tr>\n",
       "    <tr>\n",
       "      <th>1330</th>\n",
       "      <td>{'avatar': 'https://images.chesscomfiles.com/u...</td>\n",
       "    </tr>\n",
       "    <tr>\n",
       "      <th>1331</th>\n",
       "      <td>{'avatar': 'https://images.chesscomfiles.com/u...</td>\n",
       "    </tr>\n",
       "  </tbody>\n",
       "</table>\n",
       "<p>1332 rows × 1 columns</p>\n",
       "</div>"
      ],
      "text/plain": [
       "                                                   user\n",
       "0     {'avatar': 'https://images.chesscomfiles.com/u...\n",
       "1     {'avatar': 'https://images.chesscomfiles.com/u...\n",
       "2     {'avatar': 'https://images.chesscomfiles.com/u...\n",
       "3     {'avatar': 'https://images.chesscomfiles.com/u...\n",
       "4     {'avatar': 'https://images.chesscomfiles.com/u...\n",
       "...                                                 ...\n",
       "1327  {'avatar': 'https://images.chesscomfiles.com/u...\n",
       "1328  {'avatar': 'https://images.chesscomfiles.com/u...\n",
       "1329  {'avatar': 'https://images.chesscomfiles.com/u...\n",
       "1330  {'avatar': 'https://images.chesscomfiles.com/u...\n",
       "1331  {'avatar': 'https://images.chesscomfiles.com/u...\n",
       "\n",
       "[1332 rows x 1 columns]"
      ]
     },
     "execution_count": 13,
     "metadata": {},
     "output_type": "execute_result"
    }
   ],
   "source": [
    "lista_jogadores"
   ]
  },
  {
   "cell_type": "code",
   "execution_count": 14,
   "id": "33a256e5",
   "metadata": {},
   "outputs": [
    {
     "data": {
      "text/plain": [
       "pymongo.mongo_client.MongoClient"
      ]
     },
     "execution_count": 14,
     "metadata": {},
     "output_type": "execute_result"
    }
   ],
   "source": [
    "coon = MongoClient('localhost', 27017)\n",
    "type(coon)"
   ]
  },
  {
   "cell_type": "code",
   "execution_count": 15,
   "id": "49ca7a39",
   "metadata": {},
   "outputs": [
    {
     "data": {
      "text/plain": [
       "pymongo.database.Database"
      ]
     },
     "execution_count": 15,
     "metadata": {},
     "output_type": "execute_result"
    }
   ],
   "source": [
    "db = coon.jogadoresdb\n",
    "type(db)"
   ]
  },
  {
   "cell_type": "code",
   "execution_count": 16,
   "id": "52e71088",
   "metadata": {},
   "outputs": [
    {
     "data": {
      "text/plain": [
       "pymongo.collection.Collection"
      ]
     },
     "execution_count": 16,
     "metadata": {},
     "output_type": "execute_result"
    }
   ],
   "source": [
    "collection = db.jogadores_coletados\n",
    "type(collection)"
   ]
  },
  {
   "cell_type": "code",
   "execution_count": 10,
   "id": "e3fc1aa4",
   "metadata": {},
   "outputs": [
    {
     "data": {
      "text/plain": [
       "[{'user': {'avatar': 'https://images.chesscomfiles.com/uploads/v1/user/18800602.e26b721f.200x200o.e738019a328a.jpeg',\n",
       "   'player_id': 18800602,\n",
       "   '@id': 'https://api.chess.com/pub/player/123lt',\n",
       "   'url': 'https://www.chess.com/member/123lt',\n",
       "   'name': 'Tingjie Lei',\n",
       "   'username': '123lt',\n",
       "   'title': 'GM',\n",
       "   'followers': 36,\n",
       "   'country': 'https://api.chess.com/pub/country/CN',\n",
       "   'last_online': 1615967972,\n",
       "   'joined': 1410059361,\n",
       "   'status': 'premium',\n",
       "   'is_streamer': False}},\n",
       " {'user': {'avatar': 'https://images.chesscomfiles.com/uploads/v1/user/29499974.39041f89.200x200o.f6478a5ae8e2.jpeg',\n",
       "   'player_id': 29499974,\n",
       "   '@id': 'https://api.chess.com/pub/player/124chess',\n",
       "   'url': 'https://www.chess.com/member/124chess',\n",
       "   'name': 'Дмитрий Хегай',\n",
       "   'username': '124chess',\n",
       "   'title': 'GM',\n",
       "   'followers': 87,\n",
       "   'country': 'https://api.chess.com/pub/country/RU',\n",
       "   'location': 'Красноярск',\n",
       "   'last_online': 1616173422,\n",
       "   'joined': 1471316272,\n",
       "   'status': 'premium',\n",
       "   'is_streamer': False}},\n",
       " {'user': {'avatar': 'https://images.chesscomfiles.com/uploads/v1/user/30610578.e05f2196.200x200o.3948baec540a.jpeg',\n",
       "   'player_id': 30610578,\n",
       "   '@id': 'https://api.chess.com/pub/player/1977ivan',\n",
       "   'url': 'https://www.chess.com/member/1977Ivan',\n",
       "   'name': 'Ivan Ivanisevic',\n",
       "   'username': '1977ivan',\n",
       "   'title': 'GM',\n",
       "   'followers': 120,\n",
       "   'country': 'https://api.chess.com/pub/country/RS',\n",
       "   'location': 'Belgrade',\n",
       "   'last_online': 1616110240,\n",
       "   'joined': 1477565847,\n",
       "   'status': 'premium',\n",
       "   'is_streamer': False}},\n",
       " {'user': {'avatar': 'https://images.chesscomfiles.com/uploads/v1/user/13013662.cd1d1c55.200x200o.895c29f69c54.jpeg',\n",
       "   'player_id': 13013662,\n",
       "   '@id': 'https://api.chess.com/pub/player/1stsecond',\n",
       "   'url': 'https://www.chess.com/member/1stSecond',\n",
       "   'name': 'Nikita Meshkovs',\n",
       "   'username': '1stsecond',\n",
       "   'title': 'GM',\n",
       "   'followers': 716,\n",
       "   'country': 'https://api.chess.com/pub/country/LV',\n",
       "   'location': 'Riga',\n",
       "   'last_online': 1616192647,\n",
       "   'joined': 1375617889,\n",
       "   'status': 'premium',\n",
       "   'is_streamer': False}},\n",
       " {'user': {'avatar': 'https://images.chesscomfiles.com/uploads/v1/user/39230304.414d9817.200x200o.46cbdae3f782.png',\n",
       "   'player_id': 39230304,\n",
       "   '@id': 'https://api.chess.com/pub/player/2nd_life',\n",
       "   'url': 'https://www.chess.com/member/2nd_life',\n",
       "   'name': 'Florian Jenni',\n",
       "   'username': '2nd_life',\n",
       "   'title': 'GM',\n",
       "   'followers': 25,\n",
       "   'country': 'https://api.chess.com/pub/country/CH',\n",
       "   'location': 'Zurich',\n",
       "   'last_online': 1615926963,\n",
       "   'joined': 1507311109,\n",
       "   'status': 'premium',\n",
       "   'is_streamer': False}},\n",
       " {'user': {'avatar': 'https://images.chesscomfiles.com/uploads/v1/user/69412324.a8a2af79.200x200o.f77e8743116c.jpeg',\n",
       "   'player_id': 69412324,\n",
       "   '@id': 'https://api.chess.com/pub/player/4thd-alpeacefulmoon',\n",
       "   'url': 'https://www.chess.com/member/4thD-alpeacefulmoon',\n",
       "   'name': 'Robert Markus',\n",
       "   'username': '4thd-alpeacefulmoon',\n",
       "   'title': 'GM',\n",
       "   'followers': 2,\n",
       "   'country': 'https://api.chess.com/pub/country/RS',\n",
       "   'last_online': 1582473834,\n",
       "   'joined': 1576488055,\n",
       "   'status': 'premium',\n",
       "   'is_streamer': False}},\n",
       " {'user': {'player_id': 73365394,\n",
       "   '@id': 'https://api.chess.com/pub/player/64aramis64',\n",
       "   'url': 'https://www.chess.com/member/64Aramis64',\n",
       "   'username': '64aramis64',\n",
       "   'title': 'GM',\n",
       "   'followers': 9,\n",
       "   'country': 'https://api.chess.com/pub/country/US',\n",
       "   'last_online': 1615604139,\n",
       "   'joined': 1583956667,\n",
       "   'status': 'premium',\n",
       "   'is_streamer': False}},\n",
       " {'user': {'player_id': 73365768,\n",
       "   '@id': 'https://api.chess.com/pub/player/64arthos64',\n",
       "   'url': 'https://www.chess.com/member/64Arthos64',\n",
       "   'username': '64arthos64',\n",
       "   'title': 'GM',\n",
       "   'followers': 4,\n",
       "   'country': 'https://api.chess.com/pub/country/US',\n",
       "   'last_online': 1609891416,\n",
       "   'joined': 1583957153,\n",
       "   'status': 'premium',\n",
       "   'is_streamer': False}},\n",
       " {'user': {'player_id': 73366590,\n",
       "   '@id': 'https://api.chess.com/pub/player/64atilla64',\n",
       "   'url': 'https://www.chess.com/member/64Atilla64',\n",
       "   'username': '64atilla64',\n",
       "   'title': 'GM',\n",
       "   'followers': 7,\n",
       "   'country': 'https://api.chess.com/pub/country/US',\n",
       "   'last_online': 1609182946,\n",
       "   'joined': 1583958360,\n",
       "   'status': 'premium',\n",
       "   'is_streamer': False}},\n",
       " {'user': {'player_id': 73366504,\n",
       "   '@id': 'https://api.chess.com/pub/player/64dartagnan64',\n",
       "   'url': 'https://www.chess.com/member/64Dartagnan64',\n",
       "   'username': '64dartagnan64',\n",
       "   'title': 'GM',\n",
       "   'followers': 17,\n",
       "   'country': 'https://api.chess.com/pub/country/US',\n",
       "   'last_online': 1615758264,\n",
       "   'joined': 1583958242,\n",
       "   'status': 'premium',\n",
       "   'is_streamer': False}}]"
      ]
     },
     "execution_count": 10,
     "metadata": {},
     "output_type": "execute_result"
    }
   ],
   "source": [
    "jogadores_dict = lista_jogadores.to_dict('records') \n",
    "jogadores_dict[:10]"
   ]
  },
  {
   "cell_type": "code",
   "execution_count": 22,
   "id": "fca934fa",
   "metadata": {},
   "outputs": [],
   "source": [
    "for jogadores in jogadores_dict:\n",
    "    post_id = collection.insert_one(jogadores)\n",
    "    post_id.inserted_id"
   ]
  },
  {
   "cell_type": "code",
   "execution_count": 17,
   "id": "93e3962f",
   "metadata": {},
   "outputs": [
    {
     "data": {
      "text/plain": [
       "'jogadoresdb'"
      ]
     },
     "execution_count": 17,
     "metadata": {},
     "output_type": "execute_result"
    }
   ],
   "source": [
    "db.name"
   ]
  },
  {
   "cell_type": "code",
   "execution_count": 24,
   "id": "51e1ac87",
   "metadata": {},
   "outputs": [],
   "source": [
    "import pprint"
   ]
  },
  {
   "cell_type": "code",
   "execution_count": 18,
   "id": "f8d07522",
   "metadata": {},
   "outputs": [
    {
     "data": {
      "text/plain": [
       "1332"
      ]
     },
     "execution_count": 18,
     "metadata": {},
     "output_type": "execute_result"
    }
   ],
   "source": [
    "db.jogadores_coletados.estimated_document_count()"
   ]
  },
  {
   "cell_type": "code",
   "execution_count": null,
   "id": "081417c7",
   "metadata": {},
   "outputs": [],
   "source": []
  }
 ],
 "metadata": {
  "kernelspec": {
   "display_name": "Python 3 (ipykernel)",
   "language": "python",
   "name": "python3"
  },
  "language_info": {
   "codemirror_mode": {
    "name": "ipython",
    "version": 3
   },
   "file_extension": ".py",
   "mimetype": "text/x-python",
   "name": "python",
   "nbconvert_exporter": "python",
   "pygments_lexer": "ipython3",
   "version": "3.9.12"
  }
 },
 "nbformat": 4,
 "nbformat_minor": 5
}
